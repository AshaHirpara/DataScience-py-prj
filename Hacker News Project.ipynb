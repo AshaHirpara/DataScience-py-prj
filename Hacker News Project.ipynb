{
 "cells": [
  {
   "cell_type": "markdown",
   "metadata": {},
   "source": [
    "# Analysis of Hacker News Posts\n",
    "---\n",
    "\n",
    "Hacker News is social news publishing website focusing on Technology and enterprenure fields.Hacker News allows user to vote and comment user-submitted stories.\n",
    "\n",
    "In this project, we will focus on the following:\n",
    "\n",
    "* Do **Ask HN** or **Show HN** receive more comments on average?\n",
    "* Do posts created at a **Certain Time** receive more comments on average?\n",
    "\n",
    "Ask HN: A specific question(post) asked by user to the HN community \n",
    "Show HN: A post to show interesting stories, news, projects, products etc to the HN community\n",
    "\n",
    "This data is provided by [Hacker News]\n",
    "\n",
    "Dataset is reduced from almost 300,000 rows to approximately 20,000 rows.\n",
    "A post submission with no comments is removed and then randomly sampling from the remaining submissions has done.\n"
   ]
  },
  {
   "cell_type": "code",
   "execution_count": 1,
   "metadata": {
    "collapsed": false
   },
   "outputs": [
    {
     "name": "stdout",
     "output_type": "stream",
     "text": [
      "[['12224879', 'Interactive Dynamic Video', 'http://www.interactivedynamicvideo.com/', '386', '52', 'ne0phyte', '8/4/2016 11:52'], ['10975351', 'How to Use Open Source and Shut the Fuck Up at the Same Time', 'http://hueniverse.com/2016/01/26/how-to-use-open-source-and-shut-the-fuck-up-at-the-same-time/', '39', '10', 'josep2', '1/26/2016 19:30'], ['11964716', \"Florida DJs May Face Felony for April Fools' Water Joke\", 'http://www.thewire.com/entertainment/2013/04/florida-djs-april-fools-water-joke/63798/', '2', '1', 'vezycash', '6/23/2016 22:20'], ['11919867', 'Technology ventures: From Idea to Enterprise', 'https://www.amazon.com/Technology-Ventures-Enterprise-Thomas-Byers/dp/0073523429', '3', '1', 'hswarna', '6/17/2016 0:01'], ['10301696', 'Note by Note: The Making of Steinway L1037 (2007)', 'http://www.nytimes.com/2007/11/07/movies/07stein.html?_r=0', '8', '2', 'walterbell', '9/30/2015 4:12']]\n"
     ]
    }
   ],
   "source": [
    "import csv \n",
    "\n",
    "openned_file = open('hacker_news.csv')\n",
    "hn = list(csv.reader(openned_file))\n",
    "header = hn[0]\n",
    "hn = hn[1:]\n",
    "print(hn[:5])"
   ]
  },
  {
   "cell_type": "code",
   "execution_count": 15,
   "metadata": {
    "collapsed": false
   },
   "outputs": [
    {
     "name": "stdout",
     "output_type": "stream",
     "text": [
      "['id', 'title', 'url', 'num_points', 'num_comments', 'author', 'created_at']\n",
      "20100\n"
     ]
    }
   ],
   "source": [
    "print(header)\n",
    "print(len(hn))"
   ]
  },
  {
   "cell_type": "code",
   "execution_count": 16,
   "metadata": {
    "collapsed": false
   },
   "outputs": [],
   "source": [
    "#----------------------\n",
    "ask_posts = []\n",
    "show_posts = []\n",
    "other_posts = []\n",
    "\n",
    "for row in hn:\n",
    "    title = row[1]\n",
    "    title = title.lower()\n",
    "    \n",
    "    if title.startswith(\"ask hn\"):\n",
    "        ask_posts.append(row)\n",
    "    elif title.startswith(\"show hn\"):\n",
    "        show_posts.append(row)\n",
    "    else: \n",
    "        other_posts.append(row)"
   ]
  },
  {
   "cell_type": "code",
   "execution_count": 17,
   "metadata": {
    "collapsed": false
   },
   "outputs": [
    {
     "name": "stdout",
     "output_type": "stream",
     "text": [
      "1744\n",
      "1162\n",
      "17194\n"
     ]
    }
   ],
   "source": [
    "print(len(ask_posts))\n",
    "print(len(show_posts))\n",
    "print(len(other_posts))"
   ]
  },
  {
   "cell_type": "code",
   "execution_count": 33,
   "metadata": {
    "collapsed": false
   },
   "outputs": [],
   "source": [
    "# Total number of comments in Ask posts\n",
    "#----------------------------------------\n",
    "total_ask_comments = 0\n",
    "total_show_comments = 0\n",
    "\n",
    "for post in ask_posts:\n",
    "    total_ask_comments += int(post[4])\n",
    "\n",
    "avg_ask_comments = (total_ask_comments)/len(ask_posts)\n",
    "\n",
    "# Total number of comments in Show posts\n",
    "#---------------------------------------\n",
    "for post in show_posts:\n",
    "    total_show_comments += int(post[4])\n",
    "\n",
    "avg_show_comments = total_show_comments/len(show_posts)\n",
    " "
   ]
  },
  {
   "cell_type": "code",
   "execution_count": 34,
   "metadata": {
    "collapsed": false
   },
   "outputs": [
    {
     "name": "stdout",
     "output_type": "stream",
     "text": [
      "14.038417431192661\n",
      "10.31669535283993\n"
     ]
    }
   ],
   "source": [
    "print(avg_ask_comments)\n",
    "print(avg_show_comments)"
   ]
  },
  {
   "cell_type": "markdown",
   "metadata": {},
   "source": [
    "As we can see, Ask post gets average 14 comments in each post and avegare 10 comments for show post.\n",
    "So, we will be focusing only on Ask HN post for further analysis."
   ]
  },
  {
   "cell_type": "code",
   "execution_count": 55,
   "metadata": {
    "collapsed": false,
    "scrolled": true
   },
   "outputs": [
    {
     "data": {
      "text/plain": [
       "{'00': 447,\n",
       " '01': 683,\n",
       " '02': 1381,\n",
       " '03': 421,\n",
       " '04': 337,\n",
       " '05': 464,\n",
       " '06': 397,\n",
       " '07': 267,\n",
       " '08': 492,\n",
       " '09': 251,\n",
       " '10': 793,\n",
       " '11': 641,\n",
       " '12': 687,\n",
       " '13': 1253,\n",
       " '14': 1416,\n",
       " '15': 4477,\n",
       " '16': 1814,\n",
       " '17': 1146,\n",
       " '18': 1439,\n",
       " '19': 1188,\n",
       " '20': 1722,\n",
       " '21': 1745,\n",
       " '22': 479,\n",
       " '23': 543}"
      ]
     },
     "execution_count": 55,
     "metadata": {},
     "output_type": "execute_result"
    }
   ],
   "source": [
    "import datetime as dt \n",
    "\n",
    "result_list = []\n",
    "counts_by_hour = {}\n",
    "comments_by_hour = {}\n",
    "\n",
    "date_format = \"%m/%d/%Y %H:%M\"\n",
    "\n",
    "for post in ask_posts:\n",
    "    result_list.append([post[-1], int(post[4])])\n",
    "\n",
    "for row in result_list:\n",
    "    date = row[0]\n",
    "    n_comments = row[1]\n",
    "    \n",
    "    date = dt.datetime.strptime(date, date_format).strftime(\"%H\")\n",
    "      \n",
    "    if date in counts_by_hour:\n",
    "        counts_by_hour[date] +=1\n",
    "        comments_by_hour[date] += n_comments\n",
    "        \n",
    "    else:\n",
    "        counts_by_hour[date] = 1\n",
    "        comments_by_hour[date] = n_comments\n",
    "        \n",
    "comments_by_hour   "
   ]
  },
  {
   "cell_type": "code",
   "execution_count": 62,
   "metadata": {
    "collapsed": false
   },
   "outputs": [
    {
     "data": {
      "text/plain": [
       "[['00', 8.127272727272727],\n",
       " ['01', 11.383333333333333],\n",
       " ['02', 23.810344827586206],\n",
       " ['03', 7.796296296296297],\n",
       " ['04', 7.170212765957447],\n",
       " ['05', 10.08695652173913],\n",
       " ['06', 9.022727272727273],\n",
       " ['07', 7.852941176470588],\n",
       " ['08', 10.25],\n",
       " ['09', 5.5777777777777775],\n",
       " ['10', 13.440677966101696],\n",
       " ['11', 11.051724137931034],\n",
       " ['12', 9.41095890410959],\n",
       " ['13', 14.741176470588234],\n",
       " ['14', 13.233644859813085],\n",
       " ['15', 38.5948275862069],\n",
       " ['16', 16.796296296296298],\n",
       " ['17', 11.46],\n",
       " ['18', 13.20183486238532],\n",
       " ['19', 10.8],\n",
       " ['20', 21.525],\n",
       " ['21', 16.009174311926607],\n",
       " ['22', 6.746478873239437],\n",
       " ['23', 7.985294117647059]]"
      ]
     },
     "execution_count": 62,
     "metadata": {},
     "output_type": "execute_result"
    }
   ],
   "source": [
    "avg_by_hour = []\n",
    "\n",
    "for row in comments_by_hour:\n",
    "    avg_comment = comments_by_hour[row] / counts_by_hour[row]\n",
    "    avg_by_hour.append([row, avg_comment])\n",
    "    \n",
    "sorted(avg_by_hour)"
   ]
  },
  {
   "cell_type": "markdown",
   "metadata": {},
   "source": [
    "To sort by num of comment, we need to swap values before shorting"
   ]
  },
  {
   "cell_type": "code",
   "execution_count": 72,
   "metadata": {
    "collapsed": false
   },
   "outputs": [],
   "source": [
    "final_avg_by_hour = []\n",
    "\n",
    "for row in avg_by_hour:\n",
    "    final_avg_by_hour.append([row[1],row[0]])\n",
    "    \n",
    "sorted_avg_by_hour = sorted(final_avg_by_hour, reverse = True)"
   ]
  },
  {
   "cell_type": "code",
   "execution_count": 85,
   "metadata": {
    "collapsed": false,
    "scrolled": true
   },
   "outputs": [
    {
     "name": "stdout",
     "output_type": "stream",
     "text": [
      "Top 5 hours for Ask HN comments:\n",
      "15 hr : 38.5948275862069\n",
      "02 hr : 23.810344827586206\n",
      "20 hr : 21.525\n",
      "16 hr : 16.796296296296298\n",
      "21 hr : 16.009174311926607\n"
     ]
    }
   ],
   "source": [
    "print(\"Top 5 hours for Ask HN comments:\")\n",
    "\n",
    "for row in sorted_avg_by_hour[:5]:\n",
    "    print(row[1],\"hr :\",row[0])\n",
    "    "
   ]
  },
  {
   "cell_type": "code",
   "execution_count": null,
   "metadata": {
    "collapsed": false
   },
   "outputs": [],
   "source": []
  },
  {
   "cell_type": "markdown",
   "metadata": {},
   "source": [
    "# Conclusion\n",
    "--------\n",
    "\n",
    "So the answers are here for our main questions:\n",
    "* Do **Ask HN** or **Show HN** receive more comments on average?\n",
    "    * Ask post gets average 14 comments in each post while show post gets 10 comments. \n",
    "* Do posts created at a **Certain Time receive more comments on average**?\n",
    "    * From the above result we can see that Ask HN post created between 15:00-16:00 hr(3pm - 4pm) are most likely get more comments\n",
    "    \n",
    "\n",
    "    "
   ]
  }
 ],
 "metadata": {
  "kernelspec": {
   "display_name": "Python 3",
   "language": "python",
   "name": "python3"
  },
  "language_info": {
   "codemirror_mode": {
    "name": "ipython",
    "version": 3
   },
   "file_extension": ".py",
   "mimetype": "text/x-python",
   "name": "python",
   "nbconvert_exporter": "python",
   "pygments_lexer": "ipython3",
   "version": "3.4.3"
  }
 },
 "nbformat": 4,
 "nbformat_minor": 2
}
