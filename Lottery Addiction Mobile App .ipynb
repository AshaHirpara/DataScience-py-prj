{
 "cells": [
  {
   "cell_type": "markdown",
   "metadata": {},
   "source": [
    "# Mobile App for Lottery Addiction\n",
    "--------\n",
    "In this project, we are going to contribute to the development of a mobile app which is aimed to both prevent and treat lottery addiction by helping people better estimate their chances of winning.\n",
    "\n",
    "The app idea comes from a medical institute which is specialized in treating gambling addictions. The institute already has a team of engineers that will build the app, but they need us to create the logical core of the app and calculate probabilities. For the first version of the app, they want us to focus on the 6/49 lottery and build functions that can answer users the following questions:\n",
    "\n",
    "- What is the probability of winning the big prize with a single ticket?\n",
    "- What is the probability of winning the big prize if we play 40 different tickets (or any other number)?\n",
    "- What is the probability of having at least five (or four, or three) winning numbers on a single ticket?\n",
    "\n",
    "The scenario we're following throughout this project is fictional — the main purpose is to practice applying probability and combinatorics (permutations and combinations) concepts in a setting that simulates a real-world scenario."
   ]
  },
  {
   "cell_type": "code",
   "execution_count": 1,
   "metadata": {
    "collapsed": true
   },
   "outputs": [],
   "source": [
    "def factorial(n):\n",
    "    final_product = 1\n",
    "    for i in range(n,0,-1):\n",
    "        final_product *= i\n",
    "    return final_product\n",
    "\n",
    "def combinations(n, k):\n",
    "    numerator = factorial(n)\n",
    "    denominator = factorial(k) * factorial(n-k)\n",
    "    return numerator/denominator"
   ]
  },
  {
   "cell_type": "markdown",
   "metadata": {},
   "source": [
    "# One Ticket Probability"
   ]
  },
  {
   "cell_type": "code",
   "execution_count": 10,
   "metadata": {
    "collapsed": false
   },
   "outputs": [
    {
     "name": "stdout",
     "output_type": "stream",
     "text": [
      "Your chances to win the big prize with the numbers [6, 6, 6, 6, 6, 6] are 0.0000072%.\n",
      "In other words, you have a 1 in 13,983,816 chances to win.\n"
     ]
    }
   ],
   "source": [
    "def one_ticket_probability(user_numbers):\n",
    "    \n",
    "    total_combination = combinations(49,6)\n",
    "    probability_one_ticket = 1/total_combination\n",
    "    percentage_form = probability_one_ticket * 100\n",
    "\n",
    "    print('''Your chances to win the big prize with the numbers {} are {:.7f}%.\n",
    "In other words, you have a 1 in {:,} chances to win.'''.format(user_numbers,\n",
    "                    percentage_form, int(total_combination)))\n",
    "    \n",
    "test = [6,6,6,6,6,6]    \n",
    "one_ticket_probability(test)\n",
    "    \n",
    "    "
   ]
  },
  {
   "cell_type": "markdown",
   "metadata": {},
   "source": [
    "## Exploring the historical data of Canada 6/49 lottery"
   ]
  },
  {
   "cell_type": "code",
   "execution_count": 11,
   "metadata": {
    "collapsed": false
   },
   "outputs": [
    {
     "data": {
      "text/plain": [
       "(3665, 11)"
      ]
     },
     "execution_count": 11,
     "metadata": {},
     "output_type": "execute_result"
    }
   ],
   "source": [
    "import pandas as pd\n",
    "canada_lottery = pd.read_csv(\"649.csv\")\n",
    "canada_lottery.shape"
   ]
  },
  {
   "cell_type": "code",
   "execution_count": 12,
   "metadata": {
    "collapsed": false
   },
   "outputs": [
    {
     "data": {
      "text/html": [
       "<div>\n",
       "<style scoped>\n",
       "    .dataframe tbody tr th:only-of-type {\n",
       "        vertical-align: middle;\n",
       "    }\n",
       "\n",
       "    .dataframe tbody tr th {\n",
       "        vertical-align: top;\n",
       "    }\n",
       "\n",
       "    .dataframe thead th {\n",
       "        text-align: right;\n",
       "    }\n",
       "</style>\n",
       "<table border=\"1\" class=\"dataframe\">\n",
       "  <thead>\n",
       "    <tr style=\"text-align: right;\">\n",
       "      <th></th>\n",
       "      <th>PRODUCT</th>\n",
       "      <th>DRAW NUMBER</th>\n",
       "      <th>SEQUENCE NUMBER</th>\n",
       "      <th>DRAW DATE</th>\n",
       "      <th>NUMBER DRAWN 1</th>\n",
       "      <th>NUMBER DRAWN 2</th>\n",
       "      <th>NUMBER DRAWN 3</th>\n",
       "      <th>NUMBER DRAWN 4</th>\n",
       "      <th>NUMBER DRAWN 5</th>\n",
       "      <th>NUMBER DRAWN 6</th>\n",
       "      <th>BONUS NUMBER</th>\n",
       "    </tr>\n",
       "  </thead>\n",
       "  <tbody>\n",
       "    <tr>\n",
       "      <th>0</th>\n",
       "      <td>649</td>\n",
       "      <td>1</td>\n",
       "      <td>0</td>\n",
       "      <td>6/12/1982</td>\n",
       "      <td>3</td>\n",
       "      <td>11</td>\n",
       "      <td>12</td>\n",
       "      <td>14</td>\n",
       "      <td>41</td>\n",
       "      <td>43</td>\n",
       "      <td>13</td>\n",
       "    </tr>\n",
       "    <tr>\n",
       "      <th>1</th>\n",
       "      <td>649</td>\n",
       "      <td>2</td>\n",
       "      <td>0</td>\n",
       "      <td>6/19/1982</td>\n",
       "      <td>8</td>\n",
       "      <td>33</td>\n",
       "      <td>36</td>\n",
       "      <td>37</td>\n",
       "      <td>39</td>\n",
       "      <td>41</td>\n",
       "      <td>9</td>\n",
       "    </tr>\n",
       "    <tr>\n",
       "      <th>2</th>\n",
       "      <td>649</td>\n",
       "      <td>3</td>\n",
       "      <td>0</td>\n",
       "      <td>6/26/1982</td>\n",
       "      <td>1</td>\n",
       "      <td>6</td>\n",
       "      <td>23</td>\n",
       "      <td>24</td>\n",
       "      <td>27</td>\n",
       "      <td>39</td>\n",
       "      <td>34</td>\n",
       "    </tr>\n",
       "  </tbody>\n",
       "</table>\n",
       "</div>"
      ],
      "text/plain": [
       "   PRODUCT  DRAW NUMBER  SEQUENCE NUMBER  DRAW DATE  NUMBER DRAWN 1  \\\n",
       "0      649            1                0  6/12/1982               3   \n",
       "1      649            2                0  6/19/1982               8   \n",
       "2      649            3                0  6/26/1982               1   \n",
       "\n",
       "   NUMBER DRAWN 2  NUMBER DRAWN 3  NUMBER DRAWN 4  NUMBER DRAWN 5  \\\n",
       "0              11              12              14              41   \n",
       "1              33              36              37              39   \n",
       "2               6              23              24              27   \n",
       "\n",
       "   NUMBER DRAWN 6  BONUS NUMBER  \n",
       "0              43            13  \n",
       "1              41             9  \n",
       "2              39            34  "
      ]
     },
     "execution_count": 12,
     "metadata": {},
     "output_type": "execute_result"
    }
   ],
   "source": [
    "canada_lottery.head(3)\n"
   ]
  },
  {
   "cell_type": "code",
   "execution_count": 13,
   "metadata": {
    "collapsed": false
   },
   "outputs": [
    {
     "data": {
      "text/html": [
       "<div>\n",
       "<style scoped>\n",
       "    .dataframe tbody tr th:only-of-type {\n",
       "        vertical-align: middle;\n",
       "    }\n",
       "\n",
       "    .dataframe tbody tr th {\n",
       "        vertical-align: top;\n",
       "    }\n",
       "\n",
       "    .dataframe thead th {\n",
       "        text-align: right;\n",
       "    }\n",
       "</style>\n",
       "<table border=\"1\" class=\"dataframe\">\n",
       "  <thead>\n",
       "    <tr style=\"text-align: right;\">\n",
       "      <th></th>\n",
       "      <th>PRODUCT</th>\n",
       "      <th>DRAW NUMBER</th>\n",
       "      <th>SEQUENCE NUMBER</th>\n",
       "      <th>DRAW DATE</th>\n",
       "      <th>NUMBER DRAWN 1</th>\n",
       "      <th>NUMBER DRAWN 2</th>\n",
       "      <th>NUMBER DRAWN 3</th>\n",
       "      <th>NUMBER DRAWN 4</th>\n",
       "      <th>NUMBER DRAWN 5</th>\n",
       "      <th>NUMBER DRAWN 6</th>\n",
       "      <th>BONUS NUMBER</th>\n",
       "    </tr>\n",
       "  </thead>\n",
       "  <tbody>\n",
       "    <tr>\n",
       "      <th>3662</th>\n",
       "      <td>649</td>\n",
       "      <td>3589</td>\n",
       "      <td>0</td>\n",
       "      <td>6/13/2018</td>\n",
       "      <td>6</td>\n",
       "      <td>22</td>\n",
       "      <td>24</td>\n",
       "      <td>31</td>\n",
       "      <td>32</td>\n",
       "      <td>34</td>\n",
       "      <td>16</td>\n",
       "    </tr>\n",
       "    <tr>\n",
       "      <th>3663</th>\n",
       "      <td>649</td>\n",
       "      <td>3590</td>\n",
       "      <td>0</td>\n",
       "      <td>6/16/2018</td>\n",
       "      <td>2</td>\n",
       "      <td>15</td>\n",
       "      <td>21</td>\n",
       "      <td>31</td>\n",
       "      <td>38</td>\n",
       "      <td>49</td>\n",
       "      <td>8</td>\n",
       "    </tr>\n",
       "    <tr>\n",
       "      <th>3664</th>\n",
       "      <td>649</td>\n",
       "      <td>3591</td>\n",
       "      <td>0</td>\n",
       "      <td>6/20/2018</td>\n",
       "      <td>14</td>\n",
       "      <td>24</td>\n",
       "      <td>31</td>\n",
       "      <td>35</td>\n",
       "      <td>37</td>\n",
       "      <td>48</td>\n",
       "      <td>17</td>\n",
       "    </tr>\n",
       "  </tbody>\n",
       "</table>\n",
       "</div>"
      ],
      "text/plain": [
       "      PRODUCT  DRAW NUMBER  SEQUENCE NUMBER  DRAW DATE  NUMBER DRAWN 1  \\\n",
       "3662      649         3589                0  6/13/2018               6   \n",
       "3663      649         3590                0  6/16/2018               2   \n",
       "3664      649         3591                0  6/20/2018              14   \n",
       "\n",
       "      NUMBER DRAWN 2  NUMBER DRAWN 3  NUMBER DRAWN 4  NUMBER DRAWN 5  \\\n",
       "3662              22              24              31              32   \n",
       "3663              15              21              31              38   \n",
       "3664              24              31              35              37   \n",
       "\n",
       "      NUMBER DRAWN 6  BONUS NUMBER  \n",
       "3662              34            16  \n",
       "3663              49             8  \n",
       "3664              48            17  "
      ]
     },
     "execution_count": 13,
     "metadata": {},
     "output_type": "execute_result"
    }
   ],
   "source": [
    "canada_lottery.tail(3)"
   ]
  },
  {
   "cell_type": "markdown",
   "metadata": {},
   "source": [
    "## Extract Row from Historical Data "
   ]
  },
  {
   "cell_type": "code",
   "execution_count": 14,
   "metadata": {
    "collapsed": false
   },
   "outputs": [
    {
     "data": {
      "text/plain": [
       "0        {3, 41, 11, 12, 43, 14}\n",
       "1        {33, 36, 37, 39, 8, 41}\n",
       "2         {1, 6, 39, 23, 24, 27}\n",
       "3         {3, 9, 10, 43, 13, 20}\n",
       "4        {34, 5, 14, 47, 21, 31}\n",
       "5        {8, 41, 20, 21, 25, 31}\n",
       "6       {33, 36, 42, 18, 25, 28}\n",
       "7        {7, 40, 16, 17, 48, 31}\n",
       "8        {5, 38, 37, 10, 23, 27}\n",
       "9        {4, 37, 46, 15, 48, 30}\n",
       "10        {33, 38, 7, 9, 42, 21}\n",
       "11      {36, 11, 43, 17, 19, 20}\n",
       "12       {37, 7, 14, 47, 17, 20}\n",
       "13      {35, 44, 25, 28, 29, 30}\n",
       "14       {36, 39, 8, 41, 47, 18}\n",
       "15       {9, 12, 13, 14, 44, 48}\n",
       "16       {4, 40, 43, 44, 14, 18}\n",
       "17      {34, 35, 36, 13, 16, 18}\n",
       "18      {36, 11, 23, 25, 28, 29}\n",
       "19       {37, 7, 45, 18, 23, 25}\n",
       "20      {37, 11, 45, 18, 19, 31}\n",
       "21       {8, 14, 16, 48, 18, 31}\n",
       "22       {4, 11, 45, 23, 24, 25}\n",
       "23        {33, 34, 3, 4, 48, 19}\n",
       "24       {5, 43, 17, 21, 28, 30}\n",
       "25       {36, 6, 38, 46, 17, 24}\n",
       "26        {4, 9, 10, 11, 43, 46}\n",
       "27       {32, 33, 7, 13, 45, 23}\n",
       "28      {35, 37, 11, 18, 22, 28}\n",
       "29      {35, 45, 48, 25, 26, 31}\n",
       "                  ...           \n",
       "3635     {2, 10, 43, 44, 48, 28}\n",
       "3636      {1, 33, 9, 10, 43, 19}\n",
       "3637    {35, 43, 44, 46, 16, 17}\n",
       "3638       {1, 5, 39, 9, 41, 12}\n",
       "3639     {9, 11, 45, 49, 28, 30}\n",
       "3640    {11, 12, 46, 19, 24, 28}\n",
       "3641      {3, 7, 43, 47, 22, 26}\n",
       "3642       {34, 6, 8, 9, 40, 13}\n",
       "3643    {36, 40, 47, 49, 18, 22}\n",
       "3644      {32, 3, 7, 41, 10, 43}\n",
       "3645     {1, 36, 11, 48, 49, 19}\n",
       "3646    {39, 12, 17, 19, 22, 27}\n",
       "3647    {41, 12, 49, 19, 20, 30}\n",
       "3648    {40, 10, 46, 14, 16, 15}\n",
       "3649    {33, 34, 44, 46, 24, 31}\n",
       "3650      {4, 37, 36, 7, 49, 28}\n",
       "3651     {33, 4, 48, 18, 24, 26}\n",
       "3652    {36, 37, 15, 17, 21, 24}\n",
       "3653     {34, 37, 6, 44, 17, 21}\n",
       "3654    {39, 46, 19, 21, 28, 30}\n",
       "3655    {34, 38, 44, 14, 15, 28}\n",
       "3656      {4, 9, 42, 44, 15, 20}\n",
       "3657    {39, 12, 13, 44, 16, 23}\n",
       "3658     {38, 39, 9, 14, 17, 21}\n",
       "3659     {32, 2, 40, 45, 49, 26}\n",
       "3660    {38, 40, 41, 10, 15, 23}\n",
       "3661    {36, 46, 47, 19, 25, 31}\n",
       "3662     {32, 34, 6, 22, 24, 31}\n",
       "3663     {2, 38, 15, 49, 21, 31}\n",
       "3664    {35, 37, 14, 48, 24, 31}\n",
       "Length: 3665, dtype: object"
      ]
     },
     "execution_count": 14,
     "metadata": {},
     "output_type": "execute_result"
    }
   ],
   "source": [
    "def extract_numbers(row):\n",
    "    row = row[4:10]\n",
    "    row = set(row.values)\n",
    "    return row\n",
    "winning_numbers = canada_lottery.apply(extract_numbers, axis=1)\n",
    "winning_numbers\n"
   ]
  },
  {
   "cell_type": "markdown",
   "metadata": {},
   "source": [
    "**check_historical_occurrence()** function that takes in the user numbers and the historical numbers and prints information with respect to the number of occurrences and the probability of winning in the next drawing."
   ]
  },
  {
   "cell_type": "code",
   "execution_count": 22,
   "metadata": {
    "collapsed": true
   },
   "outputs": [],
   "source": [
    "def check_historical_occurance(user_numbers, historical_numbers):\n",
    "    user_nums_set = set(user_numbers)\n",
    "    occurence_check = user_nums_set == historical_numbers\n",
    "    total_occurence = occurence_check.sum()\n",
    "    \n",
    "    if total_occurence ==0:\n",
    "        print('''The combination of {} has never occuraed. Your chances to win the big prize with the numbers {} are 0.0000072%. In other words, you have a 1 in 13,983,816 chances to win.'''.format(user_numbers, user_numbers))\n",
    "    \n",
    "    else:\n",
    "        print('''The combination of {} has  occuraed {} times. Your chances to win the big prize with the numbers {} are 0.0000072%. In other words, you have a 1 in 13,983,816 chances to win.'''. format(user_numbers, total_occurence, user_numbers))\n",
    "    \n",
    "        "
   ]
  },
  {
   "cell_type": "code",
   "execution_count": 23,
   "metadata": {
    "collapsed": false
   },
   "outputs": [
    {
     "name": "stdout",
     "output_type": "stream",
     "text": [
      "The combination of [12, 34, 23, 14, 21, 34] has never occuraed. Your chances to win the big prize with the numbers [12, 34, 23, 14, 21, 34] are 0.0000072%. In other words, you have a 1 in 13,983,816 chances to win.\n"
     ]
    }
   ],
   "source": [
    "test = [12,34,23,14,21,34]\n",
    "check_historical_occurance(test,winning_numbers)"
   ]
  },
  {
   "cell_type": "code",
   "execution_count": 24,
   "metadata": {
    "collapsed": false
   },
   "outputs": [
    {
     "name": "stdout",
     "output_type": "stream",
     "text": [
      "The combination of [39, 12, 17, 19, 22, 27] has  occuraed 1 times. Your chances to win the big prize with the numbers [39, 12, 17, 19, 22, 27] are 0.0000072%. In other words, you have a 1 in 13,983,816 chances to win.\n"
     ]
    }
   ],
   "source": [
    "test = [39, 12, 17, 19, 22, 27]\n",
    "check_historical_occurance(test,winning_numbers)"
   ]
  },
  {
   "cell_type": "markdown",
   "metadata": {},
   "source": [
    "# Multi-ticket Probability\n"
   ]
  },
  {
   "cell_type": "code",
   "execution_count": 25,
   "metadata": {
    "collapsed": true
   },
   "outputs": [],
   "source": [
    "def multi_ticket_probability(n_tickets):\n",
    "    \n",
    "    total_combination = combinations(49,6)\n",
    "    probability_one_ticket = n_tickets/total_combination\n",
    "    percentage_form = probability_one_ticket * 100\n",
    "    \n",
    "    if n_tickets == 1:\n",
    "        print('''Your chances to win the big prize with the numbers {} are {:.7f}%.\n",
    "In other words, you have a 1 in {:,} chances to win.'''.format(n_tickets,percentage_form, int(total_combination)))\n",
    "    \n",
    "    else:\n",
    "        combination_simplified = round(total_combination/n_tickets)\n",
    "        \n",
    "        print('''Your chances to win the big prize with the numbers {} are {:.7f}%.\n",
    "In other words, you have a 1 in {:,} chances to win.'''.format(n_tickets,percentage_form, int(combination_simplified)))\n",
    "    "
   ]
  },
  {
   "cell_type": "code",
   "execution_count": 26,
   "metadata": {
    "collapsed": false
   },
   "outputs": [
    {
     "name": "stdout",
     "output_type": "stream",
     "text": [
      "Your chances to win the big prize with the numbers 1 are 0.0000072%.\n",
      "In other words, you have a 1 in 13,983,816 chances to win.\n",
      "-------------------------------------\n",
      "Your chances to win the big prize with the numbers 10 are 0.0000715%.\n",
      "In other words, you have a 1 in 1,398,382 chances to win.\n",
      "-------------------------------------\n",
      "Your chances to win the big prize with the numbers 100 are 0.0007151%.\n",
      "In other words, you have a 1 in 139,838 chances to win.\n",
      "-------------------------------------\n",
      "Your chances to win the big prize with the numbers 10000 are 0.0715112%.\n",
      "In other words, you have a 1 in 1,398 chances to win.\n",
      "-------------------------------------\n",
      "Your chances to win the big prize with the numbers 1000000 are 7.1511238%.\n",
      "In other words, you have a 1 in 14 chances to win.\n",
      "-------------------------------------\n",
      "Your chances to win the big prize with the numbers 6991908 are 50.0000000%.\n",
      "In other words, you have a 1 in 2 chances to win.\n",
      "-------------------------------------\n",
      "Your chances to win the big prize with the numbers 13983816 are 100.0000000%.\n",
      "In other words, you have a 1 in 1 chances to win.\n",
      "-------------------------------------\n"
     ]
    }
   ],
   "source": [
    "test = [1, 10, 100, 10000, 1000000, 6991908, 13983816]\n",
    "\n",
    "for i in test:\n",
    "    multi_ticket_probability(i)\n",
    "    print('-------------------------------------')"
   ]
  },
  {
   "cell_type": "markdown",
   "metadata": {},
   "source": [
    "# Less Winning Numbers"
   ]
  },
  {
   "cell_type": "code",
   "execution_count": 30,
   "metadata": {
    "collapsed": true
   },
   "outputs": [],
   "source": [
    "def probability_less_6(n_winning_numbers):\n",
    "    n_combinations_tickets = combinations(6, n_winning_numbers)\n",
    "    n_combinations_remining = combinations(49-n_winning_numbers, 6-n_winning_numbers)\n",
    "    successful_outcomes = n_combinations_tickets * n_combinations_remining\n",
    "    n_combinations_total = combinations(49,6)\n",
    "    \n",
    "    probability = successful_outcomes/n_combinations_total\n",
    "    probability_percentage = probability * 100\n",
    "    \n",
    "    combinations_simplified = round(n_combinations_total/ successful_outcomes)\n",
    "    \n",
    "    print('''Your chances of having {} winning numbers with this ticket are {:.6f}%.\n",
    "In other words, you have a 1 in {:,} chances to win.'''.format(n_winning_numbers, probability_percentage,\n",
    "                                                               int(combinations_simplified)))\n",
    "    "
   ]
  },
  {
   "cell_type": "code",
   "execution_count": 31,
   "metadata": {
    "collapsed": false
   },
   "outputs": [
    {
     "name": "stdout",
     "output_type": "stream",
     "text": [
      "Your chances of having 2 winning numbers with this ticket are 19.132653%.\n",
      "In other words, you have a 1 in 5 chances to win.\n",
      "--------------------------\n",
      "Your chances of having 3 winning numbers with this ticket are 2.171081%.\n",
      "In other words, you have a 1 in 46 chances to win.\n",
      "--------------------------\n",
      "Your chances of having 4 winning numbers with this ticket are 0.106194%.\n",
      "In other words, you have a 1 in 942 chances to win.\n",
      "--------------------------\n",
      "Your chances of having 5 winning numbers with this ticket are 0.001888%.\n",
      "In other words, you have a 1 in 52,969 chances to win.\n",
      "--------------------------\n"
     ]
    }
   ],
   "source": [
    "for test in [2, 3, 4, 5]:\n",
    "    probability_less_6(test)\n",
    "    print('--------------------------') # output delimiter"
   ]
  }
 ],
 "metadata": {
  "kernelspec": {
   "display_name": "Python 3",
   "language": "python",
   "name": "python3"
  },
  "language_info": {
   "codemirror_mode": {
    "name": "ipython",
    "version": 3
   },
   "file_extension": ".py",
   "mimetype": "text/x-python",
   "name": "python",
   "nbconvert_exporter": "python",
   "pygments_lexer": "ipython3",
   "version": "3.4.3"
  }
 },
 "nbformat": 4,
 "nbformat_minor": 2
}
